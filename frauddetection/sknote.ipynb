{
 "cells": [
  {
   "cell_type": "code",
   "execution_count": 2,
   "metadata": {
    "collapsed": true
   },
   "outputs": [
    {
     "name": "stdout",
     "output_type": "stream",
     "text": [
      "            Time         V1         V2        V3        V4        V5  \\\n284802  172786.0 -11.881118  10.071785 -9.834783 -2.066656 -5.364473   \n284803  172787.0  -0.732789  -0.055080  2.035030 -0.738589  0.868229   \n284804  172788.0   1.919565  -0.301254 -3.249640 -0.557828  2.630515   \n284805  172788.0  -0.240440   0.530483  0.702510  0.689799 -0.377961   \n284806  172792.0  -0.533413  -0.189733  0.703337 -0.506271 -0.012546   \n\n              V6        V7        V8        V9  ...         V21       V22  \\\n284802 -2.606837 -4.918215  7.305334  1.914428  ...    0.213454  0.111864   \n284803  1.058415  0.024330  0.294869  0.584800  ...    0.214205  0.924384   \n284804  3.031260 -0.296827  0.708417  0.432454  ...    0.232045  0.578229   \n284805  0.623708 -0.686180  0.679145  0.392087  ...    0.265245  0.800049   \n284806 -0.649617  1.577006 -0.414650  0.486180  ...    0.261057  0.643078   \n\n             V23       V24       V25       V26       V27       V28  Amount  \\\n284802  1.014480 -0.509348  1.436807  0.250034  0.943651  0.823731    0.77   \n284803  0.012463 -1.016226 -0.606624 -0.395255  0.068472 -0.053527   24.79   \n284804 -0.037501  0.640134  0.265745 -0.087371  0.004455 -0.026561   67.88   \n284805 -0.163298  0.123205 -0.569159  0.546668  0.108821  0.104533   10.00   \n284806  0.376777  0.008797 -0.473649 -0.818267 -0.002415  0.013649  217.00   \n\n        Class  \n284802      0  \n284803      0  \n284804      0  \n284805      0  \n284806      0  \n\n[5 rows x 31 columns]\n"
     ]
    }
   ],
   "source": [
    "import pandas as pd\n",
    "import numpy as np\n",
    "import pylab as pl\n",
    "\n",
    "df = pd.read_csv(\"/home/drproduck/Downloads/creditcard.csv\")\n",
    "print(df.tail())"
   ]
  },
  {
   "cell_type": "code",
   "execution_count": 3,
   "metadata": {},
   "outputs": [
    {
     "name": "stdout",
     "output_type": "stream",
     "text": [
      "        Time                  V1                   V2                    V3  \\\n        amin      amax      amin      amax       amin       amax       amin   \nClass                                                                         \n0        0.0  172792.0 -56.40751  2.454930 -72.715728  18.902453 -48.325589   \n1      406.0  170348.0 -30.55238  2.132386  -8.402154  22.057729 -31.103685   \n\n                       V4               ...           V25                 V26  \\\n           amax      amin       amax    ...          amin      amax      amin   \nClass                                   ...                                     \n0      9.382558 -5.683171  16.875344    ...    -10.295397  7.519589 -2.604551   \n1      2.250210 -1.313275  12.114672    ...     -4.781606  2.208209 -1.152671   \n\n                       V27                   V28            Amount            \n           amax       amin       amax       amin       amax   amin      amax  \nClass                                                                         \n0      3.517346 -22.565679  31.612198 -15.430084  33.847808    0.0  25691.16  \n1      2.745261  -7.263482   3.052358  -1.869290   1.779364    0.0   2125.87  \n\n[2 rows x 60 columns]\n"
     ]
    }
   ],
   "source": [
    "grouped_taget = df.groupby(by='Class', sort=False)\n",
    "print(grouped_taget.agg([np.min, np.max]))"
   ]
  },
  {
   "cell_type": "code",
   "execution_count": 4,
   "metadata": {},
   "outputs": [
    {
     "name": "stdout",
     "output_type": "stream",
     "text": [
      "col_0       0    1\nClass             \n0      284315    0\n1          20  472\n[ 0.01502279  0.0158478   0.00715928  0.01951571  0.03453396  0.00884062\n  0.01086638  0.03106975  0.00849856  0.04385835  0.03179975  0.12791011\n  0.18361527  0.01283136  0.06418996  0.01095023  0.05589641  0.15808861\n  0.03183733  0.01207748  0.01615385  0.01662201  0.008562    0.00451094\n  0.00991303  0.00957184  0.01294014  0.01534622  0.00971175  0.01225852]\nV23\nV2\nV8\nV22\nV5\nV25\nV28\nV24\nV6\nV15\nV19\nAmount\nV13\nV26\nTime\nV27\nV1\nV20\nV21\nV3\nV7\nV10\nV18\nV4\nV9\nV16\nV14\nV11\nV17\nV12\n"
     ]
    },
    {
     "data": {
      "image/png": "[encoded data removed]",
      "text/plain": [
       "<matplotlib.figure.Figure at 0x7fc358c60da0>"
      ]
     },
     "metadata": {},
     "output_type": "display_data"
    }
   ],
   "source": [
    "from sklearn import ensemble\n",
    "\n",
    "ju = ensemble.RandomForestClassifier()\n",
    "ju.fit(df.iloc[:, 0:30], df.Class)\n",
    "print(pd.crosstab(df.Class, ju.predict(df.iloc[:, 0:30])))\n",
    "importances = ju.feature_importances_\n",
    "sorted_idx = np.argsort(importances)\n",
    "print(importances)\n",
    "for x in sorted_idx:\n",
    "    print(df.columns[x])\n",
    "\n",
    "padding = np.arange(30) + 2\n",
    "pl.barh(padding, importances[sorted_idx], align='center')\n",
    "pl.yticks(padding, df.columns[sorted_idx])\n",
    "pl.xlabel(\"Relative Importance\")\n",
    "pl.title(\"Variable Importance\")\n",
    "pl.show()"
   ]
  },
  {
   "cell_type": "code",
   "execution_count": 96,
   "metadata": {},
   "outputs": [
    {
     "data": {
      "image/png": "[encoded data removed]",
      "text/plain": [
       "<matplotlib.figure.Figure at 0x7f414c6216d8>"
      ]
     },
     "metadata": {},
     "output_type": "display_data"
    }
   ],
   "source": [
    "import seaborn as sns\n",
    "pl.title('Amount')\n",
    "sns.distplot(df.Amount[df.Class == 1])\n",
    "sns.distplot(df.Amount[df.Class== 0])\n",
    "pl.show()"
   ]
  },
  {
   "cell_type": "code",
   "execution_count": 6,
   "metadata": {},
   "outputs": [],
   "source": [
    "features = ['V14', 'V12', 'V16', 'V17', 'V11', 'V18', 'V13', 'Class']\n",
    "truncated = df[features]"
   ]
  },
  {
   "cell_type": "code",
   "execution_count": 7,
   "metadata": {},
   "outputs": [
    {
     "name": "stdout",
     "output_type": "stream",
     "text": [
      "             V14       V12       V16       V17       V11       V18       V13  \\\n284802  4.626942  2.711941  1.107641  1.991691 -1.593105  0.510632 -0.689256   \n284803 -0.675143  0.915802 -0.711757 -0.025693 -0.150189 -1.221179  1.214756   \n284804 -0.510602  0.063119  0.140716  0.313502  0.411614  0.395652 -0.183699   \n284805  0.449624 -0.962886 -0.608577  0.509928 -1.933849  1.113981 -1.042082   \n284806 -0.084316 -0.031513 -0.302620 -0.660377 -1.040458  0.167430 -0.188093   \n\n        Class  \n284802      0  \n284803      0  \n284804      0  \n284805      0  \n284806      0  \n"
     ]
    }
   ],
   "source": [
    "print(truncated.tail())"
   ]
  },
  {
   "cell_type": "code",
   "execution_count": 8,
   "metadata": {},
   "outputs": [
    {
     "data": {
      "text/plain": [
       "Class\n0    284315\n1       492\ndtype: int64"
      ]
     },
     "execution_count": 8,
     "metadata": {},
     "output_type": "execute_result"
    }
   ],
   "source": [
    "truncated.groupby(df.Class).apply(len)"
   ]
  },
  {
   "cell_type": "code",
   "execution_count": 10,
   "metadata": {},
   "outputs": [],
   "source": [
    "positive = truncated[truncated.Class==1]\n",
    "negative = truncated[truncated.Class==0]\n",
    "test_set = pd.concat((positive.iloc[::2, :], negative.iloc[::2, :]), axis=0)\n",
    "train_set = pd.concat((positive.iloc[1::2, :], negative.iloc[1::2, :]), axis=0)"
   ]
  },
  {
   "cell_type": "code",
   "execution_count": 11,
   "metadata": {},
   "outputs": [
    {
     "name": "stdout",
     "output_type": "stream",
     "text": [
      "Class\n0    142158\n1       246\ndtype: int64\nClass\n0    142157\n1       246\ndtype: int64\n"
     ]
    }
   ],
   "source": [
    "print(test_set.groupby(df.Class).apply(len))\n",
    "print(train_set.groupby(df.Class).apply(len))"
   ]
  },
  {
   "cell_type": "code",
   "execution_count": 12,
   "metadata": {},
   "outputs": [
    {
     "name": "stdout",
     "output_type": "stream",
     "text": [
      "             V14       V12       V16       V17       V11       V18       V13  \\\n284798  1.122674 -0.453235 -1.431897  0.939328 -1.109232 -0.002373 -1.046946   \n284800  0.626211  0.559047  0.225361 -0.605252  0.523316 -0.163049 -0.834660   \n284802  4.626942  2.711941  1.107641  1.991691 -1.593105  0.510632 -0.689256   \n284804 -0.510602  0.063119  0.140716  0.313502  0.411614  0.395652 -0.183699   \n284806 -0.084316 -0.031513 -0.302620 -0.660377 -1.040458  0.167430 -0.188093   \n\n        Class  \n284798      0  \n284800      0  \n284802      0  \n284804      0  \n284806      0  \n"
     ]
    }
   ],
   "source": [
    "print(test_set.tail())"
   ]
  },
  {
   "cell_type": "code",
   "execution_count": 13,
   "metadata": {},
   "outputs": [],
   "source": [
    "def train_and_test_with(mlfunc_list):\n",
    "    for func, name in mlfunc_list:\n",
    "        func.fit(train_set[features], train_set.Class)\n",
    "        print(name+'\\n', pd.crosstab(test_set.Class, func.predict(test_set[features])), '\\n')"
   ]
  },
  {
   "cell_type": "code",
   "execution_count": 16,
   "metadata": {},
   "outputs": [
    {
     "name": "stdout",
     "output_type": "stream",
     "text": [
      "random forest\n col_0       0    1\nClass             \n0      142158    0\n1           0  246 \n\n"
     ]
    },
    {
     "name": "stdout",
     "output_type": "stream",
     "text": [
      "adaptive boosting\n col_0       0    1\nClass             \n0      142158    0\n1           0  246 \n\ndecision tree\n col_0       0    1\nClass             \n0      142158    0\n1           0  246 \n\n"
     ]
    },
    {
     "name": "stdout",
     "output_type": "stream",
     "text": [
      "support vector machine\n col_0       0    1\nClass             \n0      142150    8\n1          11  235 \n\n"
     ]
    }
   ],
   "source": [
    "from sklearn import svm\n",
    "from sklearn import tree\n",
    "train_and_test_with([(ensemble.RandomForestClassifier(), 'random forest'), (ensemble.AdaBoostClassifier(), 'adaptive boosting')])\n",
    "train_and_test_with([(tree.DecisionTreeClassifier(), 'decision tree'), (svm.SVC(), 'support vector machine')])"
   ]
  },
  {
   "cell_type": "code",
   "execution_count": 15,
   "metadata": {},
   "outputs": [
    {
     "name": "stdout",
     "output_type": "stream",
     "text": [
      "naive bayes\n col_0       0    1\nClass             \n0      142158    0\n1           1  245 \n\n"
     ]
    }
   ],
   "source": [
    "from sklearn import naive_bayes\n",
    "train_and_test_with([(naive_bayes.BernoulliNB(), 'naive bayes')])"
   ]
  },
  {
   "cell_type": "code",
   "execution_count": null,
   "metadata": {},
   "outputs": [],
   "source": [
    ""
   ]
  }
 ],
 "metadata": {
  "kernelspec": {
   "display_name": "Python 2",
   "language": "python",
   "name": "python2"
  },
  "language_info": {
   "codemirror_mode": {
    "name": "ipython",
    "version": 2.0
   },
   "file_extension": ".py",
   "mimetype": "text/x-python",
   "name": "python",
   "nbconvert_exporter": "python",
   "pygments_lexer": "ipython2",
   "version": "2.7.6"
  }
 },
 "nbformat": 4,
 "nbformat_minor": 0
}